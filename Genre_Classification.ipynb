{
  "nbformat": 4,
  "nbformat_minor": 0,
  "metadata": {
    "colab": {
      "provenance": [],
      "authorship_tag": "ABX9TyNCELEt4Sect5ICsSWpC649"
    },
    "kernelspec": {
      "name": "python3",
      "display_name": "Python 3"
    },
    "language_info": {
      "name": "python"
    }
  },
  "cells": [
    {
      "cell_type": "code",
      "source": [
        "!pip install tensorflow\n",
        "!pip install transformers"
      ],
      "metadata": {
        "colab": {
          "base_uri": "https://localhost:8080/"
        },
        "id": "y5E4uLS03LiU",
        "outputId": "5d9bfb18-32d3-4456-9871-891a6a8739d9"
      },
      "execution_count": 4,
      "outputs": [
        {
          "output_type": "stream",
          "name": "stdout",
          "text": [
            "Requirement already satisfied: tensorflow in /usr/local/lib/python3.10/dist-packages (2.13.0)\n",
            "Requirement already satisfied: absl-py>=1.0.0 in /usr/local/lib/python3.10/dist-packages (from tensorflow) (1.4.0)\n",
            "Requirement already satisfied: astunparse>=1.6.0 in /usr/local/lib/python3.10/dist-packages (from tensorflow) (1.6.3)\n",
            "Requirement already satisfied: flatbuffers>=23.1.21 in /usr/local/lib/python3.10/dist-packages (from tensorflow) (23.5.26)\n",
            "Requirement already satisfied: gast<=0.4.0,>=0.2.1 in /usr/local/lib/python3.10/dist-packages (from tensorflow) (0.4.0)\n",
            "Requirement already satisfied: google-pasta>=0.1.1 in /usr/local/lib/python3.10/dist-packages (from tensorflow) (0.2.0)\n",
            "Requirement already satisfied: grpcio<2.0,>=1.24.3 in /usr/local/lib/python3.10/dist-packages (from tensorflow) (1.57.0)\n",
            "Requirement already satisfied: h5py>=2.9.0 in /usr/local/lib/python3.10/dist-packages (from tensorflow) (3.9.0)\n",
            "Requirement already satisfied: keras<2.14,>=2.13.1 in /usr/local/lib/python3.10/dist-packages (from tensorflow) (2.13.1)\n",
            "Requirement already satisfied: libclang>=13.0.0 in /usr/local/lib/python3.10/dist-packages (from tensorflow) (16.0.6)\n",
            "Requirement already satisfied: numpy<=1.24.3,>=1.22 in /usr/local/lib/python3.10/dist-packages (from tensorflow) (1.23.5)\n",
            "Requirement already satisfied: opt-einsum>=2.3.2 in /usr/local/lib/python3.10/dist-packages (from tensorflow) (3.3.0)\n",
            "Requirement already satisfied: packaging in /usr/local/lib/python3.10/dist-packages (from tensorflow) (23.1)\n",
            "Requirement already satisfied: protobuf!=4.21.0,!=4.21.1,!=4.21.2,!=4.21.3,!=4.21.4,!=4.21.5,<5.0.0dev,>=3.20.3 in /usr/local/lib/python3.10/dist-packages (from tensorflow) (3.20.3)\n",
            "Requirement already satisfied: setuptools in /usr/local/lib/python3.10/dist-packages (from tensorflow) (67.7.2)\n",
            "Requirement already satisfied: six>=1.12.0 in /usr/local/lib/python3.10/dist-packages (from tensorflow) (1.16.0)\n",
            "Requirement already satisfied: tensorboard<2.14,>=2.13 in /usr/local/lib/python3.10/dist-packages (from tensorflow) (2.13.0)\n",
            "Requirement already satisfied: tensorflow-estimator<2.14,>=2.13.0 in /usr/local/lib/python3.10/dist-packages (from tensorflow) (2.13.0)\n",
            "Requirement already satisfied: termcolor>=1.1.0 in /usr/local/lib/python3.10/dist-packages (from tensorflow) (2.3.0)\n",
            "Requirement already satisfied: typing-extensions<4.6.0,>=3.6.6 in /usr/local/lib/python3.10/dist-packages (from tensorflow) (4.5.0)\n",
            "Requirement already satisfied: wrapt>=1.11.0 in /usr/local/lib/python3.10/dist-packages (from tensorflow) (1.15.0)\n",
            "Requirement already satisfied: tensorflow-io-gcs-filesystem>=0.23.1 in /usr/local/lib/python3.10/dist-packages (from tensorflow) (0.33.0)\n",
            "Requirement already satisfied: wheel<1.0,>=0.23.0 in /usr/local/lib/python3.10/dist-packages (from astunparse>=1.6.0->tensorflow) (0.41.2)\n",
            "Requirement already satisfied: google-auth<3,>=1.6.3 in /usr/local/lib/python3.10/dist-packages (from tensorboard<2.14,>=2.13->tensorflow) (2.17.3)\n",
            "Requirement already satisfied: google-auth-oauthlib<1.1,>=0.5 in /usr/local/lib/python3.10/dist-packages (from tensorboard<2.14,>=2.13->tensorflow) (1.0.0)\n",
            "Requirement already satisfied: markdown>=2.6.8 in /usr/local/lib/python3.10/dist-packages (from tensorboard<2.14,>=2.13->tensorflow) (3.4.4)\n",
            "Requirement already satisfied: requests<3,>=2.21.0 in /usr/local/lib/python3.10/dist-packages (from tensorboard<2.14,>=2.13->tensorflow) (2.31.0)\n",
            "Requirement already satisfied: tensorboard-data-server<0.8.0,>=0.7.0 in /usr/local/lib/python3.10/dist-packages (from tensorboard<2.14,>=2.13->tensorflow) (0.7.1)\n",
            "Requirement already satisfied: werkzeug>=1.0.1 in /usr/local/lib/python3.10/dist-packages (from tensorboard<2.14,>=2.13->tensorflow) (2.3.7)\n",
            "Requirement already satisfied: cachetools<6.0,>=2.0.0 in /usr/local/lib/python3.10/dist-packages (from google-auth<3,>=1.6.3->tensorboard<2.14,>=2.13->tensorflow) (5.3.1)\n",
            "Requirement already satisfied: pyasn1-modules>=0.2.1 in /usr/local/lib/python3.10/dist-packages (from google-auth<3,>=1.6.3->tensorboard<2.14,>=2.13->tensorflow) (0.3.0)\n",
            "Requirement already satisfied: rsa<5,>=3.1.4 in /usr/local/lib/python3.10/dist-packages (from google-auth<3,>=1.6.3->tensorboard<2.14,>=2.13->tensorflow) (4.9)\n",
            "Requirement already satisfied: requests-oauthlib>=0.7.0 in /usr/local/lib/python3.10/dist-packages (from google-auth-oauthlib<1.1,>=0.5->tensorboard<2.14,>=2.13->tensorflow) (1.3.1)\n",
            "Requirement already satisfied: charset-normalizer<4,>=2 in /usr/local/lib/python3.10/dist-packages (from requests<3,>=2.21.0->tensorboard<2.14,>=2.13->tensorflow) (3.2.0)\n",
            "Requirement already satisfied: idna<4,>=2.5 in /usr/local/lib/python3.10/dist-packages (from requests<3,>=2.21.0->tensorboard<2.14,>=2.13->tensorflow) (3.4)\n",
            "Requirement already satisfied: urllib3<3,>=1.21.1 in /usr/local/lib/python3.10/dist-packages (from requests<3,>=2.21.0->tensorboard<2.14,>=2.13->tensorflow) (2.0.4)\n",
            "Requirement already satisfied: certifi>=2017.4.17 in /usr/local/lib/python3.10/dist-packages (from requests<3,>=2.21.0->tensorboard<2.14,>=2.13->tensorflow) (2023.7.22)\n",
            "Requirement already satisfied: MarkupSafe>=2.1.1 in /usr/local/lib/python3.10/dist-packages (from werkzeug>=1.0.1->tensorboard<2.14,>=2.13->tensorflow) (2.1.3)\n",
            "Requirement already satisfied: pyasn1<0.6.0,>=0.4.6 in /usr/local/lib/python3.10/dist-packages (from pyasn1-modules>=0.2.1->google-auth<3,>=1.6.3->tensorboard<2.14,>=2.13->tensorflow) (0.5.0)\n",
            "Requirement already satisfied: oauthlib>=3.0.0 in /usr/local/lib/python3.10/dist-packages (from requests-oauthlib>=0.7.0->google-auth-oauthlib<1.1,>=0.5->tensorboard<2.14,>=2.13->tensorflow) (3.2.2)\n",
            "Collecting transformers\n",
            "  Downloading transformers-4.33.2-py3-none-any.whl (7.6 MB)\n",
            "\u001b[2K     \u001b[90m━━━━━━━━━━━━━━━━━━━━━━━━━━━━━━━━━━━━━━━━\u001b[0m \u001b[32m7.6/7.6 MB\u001b[0m \u001b[31m50.4 MB/s\u001b[0m eta \u001b[36m0:00:00\u001b[0m\n",
            "\u001b[?25hRequirement already satisfied: filelock in /usr/local/lib/python3.10/dist-packages (from transformers) (3.12.2)\n",
            "Collecting huggingface-hub<1.0,>=0.15.1 (from transformers)\n",
            "  Downloading huggingface_hub-0.17.1-py3-none-any.whl (294 kB)\n",
            "\u001b[2K     \u001b[90m━━━━━━━━━━━━━━━━━━━━━━━━━━━━━━━━━━━━━━\u001b[0m \u001b[32m294.8/294.8 kB\u001b[0m \u001b[31m30.9 MB/s\u001b[0m eta \u001b[36m0:00:00\u001b[0m\n",
            "\u001b[?25hRequirement already satisfied: numpy>=1.17 in /usr/local/lib/python3.10/dist-packages (from transformers) (1.23.5)\n",
            "Requirement already satisfied: packaging>=20.0 in /usr/local/lib/python3.10/dist-packages (from transformers) (23.1)\n",
            "Requirement already satisfied: pyyaml>=5.1 in /usr/local/lib/python3.10/dist-packages (from transformers) (6.0.1)\n",
            "Requirement already satisfied: regex!=2019.12.17 in /usr/local/lib/python3.10/dist-packages (from transformers) (2023.6.3)\n",
            "Requirement already satisfied: requests in /usr/local/lib/python3.10/dist-packages (from transformers) (2.31.0)\n",
            "Collecting tokenizers!=0.11.3,<0.14,>=0.11.1 (from transformers)\n",
            "  Downloading tokenizers-0.13.3-cp310-cp310-manylinux_2_17_x86_64.manylinux2014_x86_64.whl (7.8 MB)\n",
            "\u001b[2K     \u001b[90m━━━━━━━━━━━━━━━━━━━━━━━━━━━━━━━━━━━━━━━━\u001b[0m \u001b[32m7.8/7.8 MB\u001b[0m \u001b[31m81.8 MB/s\u001b[0m eta \u001b[36m0:00:00\u001b[0m\n",
            "\u001b[?25hCollecting safetensors>=0.3.1 (from transformers)\n",
            "  Downloading safetensors-0.3.3-cp310-cp310-manylinux_2_17_x86_64.manylinux2014_x86_64.whl (1.3 MB)\n",
            "\u001b[2K     \u001b[90m━━━━━━━━━━━━━━━━━━━━━━━━━━━━━━━━━━━━━━━━\u001b[0m \u001b[32m1.3/1.3 MB\u001b[0m \u001b[31m41.8 MB/s\u001b[0m eta \u001b[36m0:00:00\u001b[0m\n",
            "\u001b[?25hRequirement already satisfied: tqdm>=4.27 in /usr/local/lib/python3.10/dist-packages (from transformers) (4.66.1)\n",
            "Requirement already satisfied: fsspec in /usr/local/lib/python3.10/dist-packages (from huggingface-hub<1.0,>=0.15.1->transformers) (2023.6.0)\n",
            "Requirement already satisfied: typing-extensions>=3.7.4.3 in /usr/local/lib/python3.10/dist-packages (from huggingface-hub<1.0,>=0.15.1->transformers) (4.5.0)\n",
            "Requirement already satisfied: charset-normalizer<4,>=2 in /usr/local/lib/python3.10/dist-packages (from requests->transformers) (3.2.0)\n",
            "Requirement already satisfied: idna<4,>=2.5 in /usr/local/lib/python3.10/dist-packages (from requests->transformers) (3.4)\n",
            "Requirement already satisfied: urllib3<3,>=1.21.1 in /usr/local/lib/python3.10/dist-packages (from requests->transformers) (2.0.4)\n",
            "Requirement already satisfied: certifi>=2017.4.17 in /usr/local/lib/python3.10/dist-packages (from requests->transformers) (2023.7.22)\n",
            "Installing collected packages: tokenizers, safetensors, huggingface-hub, transformers\n",
            "Successfully installed huggingface-hub-0.17.1 safetensors-0.3.3 tokenizers-0.13.3 transformers-4.33.2\n"
          ]
        }
      ]
    },
    {
      "cell_type": "code",
      "execution_count": 5,
      "metadata": {
        "id": "UD1BAeeO1xjF"
      },
      "outputs": [],
      "source": [
        "import pandas as pd\n",
        "import numpy as np\n",
        "\n",
        "import tensorflow as tf\n",
        "from tensorflow.keras.preprocessing.text import Tokenizer\n",
        "from tensorflow.keras.preprocessing.sequence import pad_sequences\n",
        "from transformers import AutoModelForSequenceClassification\n",
        "\n",
        "import matplotlib.pyplot as plt\n",
        "import seaborn as sns\n",
        "\n",
        "sns.set()"
      ]
    },
    {
      "cell_type": "code",
      "source": [
        "with open(\"/train_data.txt\", 'r') as file:\n",
        "    print(f\"First line (header) looks like this:\\n\\n{file.readline()}\")\n",
        "    print(f\"Each data point looks like this:\\n\\n{file.readline()}\")"
      ],
      "metadata": {
        "colab": {
          "base_uri": "https://localhost:8080/"
        },
        "id": "XscPNmQJ3jtt",
        "outputId": "40a411e7-ec9d-4f4b-fe1c-e7c7bf64d513"
      },
      "execution_count": 6,
      "outputs": [
        {
          "output_type": "stream",
          "name": "stdout",
          "text": [
            "First line (header) looks like this:\n",
            "\n",
            "1 ::: Oscar et la dame rose (2009) ::: drama ::: Listening in to a conversation between his doctor and parents, 10-year-old Oscar learns what nobody has the courage to tell him. He only has a few weeks to live. Furious, he refuses to speak to anyone except straight-talking Rose, the lady in pink he meets on the hospital stairs. As Christmas approaches, Rose uses her fantastical experiences as a professional wrestler, her imagination, wit and charm to allow Oscar to live life and love to the full, in the company of his friends Pop Corn, Einstein, Bacon and childhood sweetheart Peggy Blue.\n",
            "\n",
            "Each data point looks like this:\n",
            "\n",
            "2 ::: Cupid (1997) ::: thriller ::: A brother and sister with a past incestuous relationship have a current murderous relationship. He murders the women who reject him and she murders the women who get too close to him.\n",
            "\n"
          ]
        }
      ]
    },
    {
      "cell_type": "code",
      "source": [
        "NUM_WORDS = 5000\n",
        "EMBEDDING_DIM = 16\n",
        "MAXLEN = 250\n",
        "PADDING = 'post'\n",
        "OOV_TOKEN = \"<OOV>\""
      ],
      "metadata": {
        "id": "x7XnU_TS4fqH"
      },
      "execution_count": 7,
      "outputs": []
    },
    {
      "cell_type": "code",
      "source": [
        "def remove_stopwords(sentence):\n",
        "    stopwords = [\"a\", \"about\", \"above\", \"after\", \"again\", \"against\", \"all\", \"am\", \"an\", \"and\", \"any\", \"are\", \"as\", \"at\", \"be\", \"because\", \"been\", \"before\", \"being\", \"below\", \"between\", \"both\", \"but\", \"by\", \"could\", \"did\", \"do\", \"does\", \"doing\", \"down\", \"during\", \"each\", \"few\", \"for\", \"from\", \"further\", \"had\", \"has\", \"have\", \"having\", \"he\", \"he'd\", \"he'll\", \"he's\", \"her\", \"here\", \"here's\", \"hers\", \"herself\", \"him\", \"himself\", \"his\", \"how\", \"how's\", \"i\", \"i'd\", \"i'll\", \"i'm\", \"i've\", \"if\", \"in\", \"into\", \"is\", \"it\", \"it's\", \"its\", \"itself\", \"let's\", \"me\", \"more\", \"most\", \"my\", \"myself\", \"nor\", \"of\", \"on\", \"once\", \"only\", \"or\", \"other\", \"ought\", \"our\", \"ours\", \"ourselves\", \"out\", \"over\", \"own\", \"same\", \"she\", \"she'd\", \"she'll\", \"she's\", \"should\", \"so\", \"some\", \"such\", \"than\", \"that\", \"that's\", \"the\", \"their\", \"theirs\", \"them\", \"themselves\", \"then\", \"there\", \"there's\", \"these\", \"they\", \"they'd\", \"they'll\", \"they're\", \"they've\", \"this\", \"those\", \"through\", \"to\", \"too\", \"under\", \"until\", \"up\", \"very\", \"was\", \"we\", \"we'd\", \"we'll\", \"we're\", \"we've\", \"were\", \"what\", \"what's\", \"when\", \"when's\", \"where\", \"where's\", \"which\", \"while\", \"who\", \"who's\", \"whom\", \"why\", \"why's\", \"with\", \"would\", \"you\", \"you'd\", \"you'll\", \"you're\", \"you've\", \"your\", \"yours\", \"yourself\", \"yourselves\" ]\n",
        "\n",
        "    sentence = sentence.lower()\n",
        "\n",
        "    words = sentence.split()\n",
        "    no_words = [w for w in words if w not in stopwords]\n",
        "    sentence = \" \".join(no_words)\n",
        "\n",
        "    return sentence\n",
        "\n",
        "\n",
        "def parse_data_from_file(filename):\n",
        "    sentences = []\n",
        "    labels = []\n",
        "\n",
        "    with open(filename, 'r') as file:\n",
        "        for line in file:\n",
        "            values = line.strip().split(':::')\n",
        "            labels.append(values[2])\n",
        "            sentence = values[3]\n",
        "            sentence = remove_stopwords(sentence)\n",
        "            sentences.append(sentence)\n",
        "\n",
        "    return sentences, labels"
      ],
      "metadata": {
        "id": "bVipsYF_4fsU"
      },
      "execution_count": 8,
      "outputs": []
    },
    {
      "cell_type": "code",
      "source": [
        "sentences, labels = parse_data_from_file(\"/train_data.txt\")\n",
        "\n",
        "print(f\"There are {len(sentences)} sentences in the dataset.\\n\")\n",
        "print(f\"First sentence has {len(sentences[0].split())} words (after removing stopwords).\\n\")\n",
        "print(f\"There are {len(labels)} labels in the dataset.\\n\")\n",
        "print(f\"The first 5 labels are {labels[:5]}\")"
      ],
      "metadata": {
        "colab": {
          "base_uri": "https://localhost:8080/"
        },
        "id": "pJckntWE4ftw",
        "outputId": "54f8a612-11a5-4f7e-a6d3-1b178bfe6815"
      },
      "execution_count": 10,
      "outputs": [
        {
          "output_type": "stream",
          "name": "stdout",
          "text": [
            "There are 54214 sentences in the dataset.\n",
            "\n",
            "First sentence has 52 words (after removing stopwords).\n",
            "\n",
            "There are 54214 labels in the dataset.\n",
            "\n",
            "The first 5 labels are [' drama ', ' thriller ', ' adult ', ' drama ', ' drama ']\n"
          ]
        }
      ]
    },
    {
      "cell_type": "code",
      "source": [
        "print(sentences[0])"
      ],
      "metadata": {
        "colab": {
          "base_uri": "https://localhost:8080/"
        },
        "id": "yaFAbGMZ4fv0",
        "outputId": "004fc659-01cc-4767-f7ea-11224586158e"
      },
      "execution_count": 11,
      "outputs": [
        {
          "output_type": "stream",
          "name": "stdout",
          "text": [
            "listening conversation doctor parents, 10-year-old oscar learns nobody courage tell him. weeks live. furious, refuses speak anyone except straight-talking rose, lady pink meets hospital stairs. christmas approaches, rose uses fantastical experiences professional wrestler, imagination, wit charm allow oscar live life love full, company friends pop corn, einstein, bacon childhood sweetheart peggy blue.\n"
          ]
        }
      ]
    },
    {
      "cell_type": "code",
      "source": [
        "test_sentences, test_labels = parse_data_from_file(\"/test_data_solution.txt\")\n",
        "\n",
        "print(f\"There are {len(test_sentences)} sentences in the dataset.\\n\")\n",
        "print(f\"First sentence has {len(test_sentences[0].split())} words (after removing stopwords).\\n\")\n",
        "print(f\"There are {len(test_labels)} labels in the dataset.\\n\")\n",
        "print(f\"The first 5 labels are {test_labels[:5]}\")"
      ],
      "metadata": {
        "colab": {
          "base_uri": "https://localhost:8080/"
        },
        "id": "fesFBA6q46v7",
        "outputId": "51278a69-c052-4bc7-d349-586cc468ed62"
      },
      "execution_count": 12,
      "outputs": [
        {
          "output_type": "stream",
          "name": "stdout",
          "text": [
            "There are 54200 sentences in the dataset.\n",
            "\n",
            "First sentence has 53 words (after removing stopwords).\n",
            "\n",
            "There are 54200 labels in the dataset.\n",
            "\n",
            "The first 5 labels are [' thriller ', ' comedy ', ' documentary ', ' drama ', ' drama ']\n"
          ]
        }
      ]
    },
    {
      "cell_type": "code",
      "source": [
        "print(f\"There are {len(sentences)} sentences for training.\\n\")\n",
        "print(f\"There are {len(labels)} labels for training.\\n\")\n",
        "print(f\"There are {len(test_sentences)} sentences for validation.\\n\")\n",
        "print(f\"There are {len(test_labels)} labels for validation.\")"
      ],
      "metadata": {
        "colab": {
          "base_uri": "https://localhost:8080/"
        },
        "id": "Y4XhB_ZW46yA",
        "outputId": "473b2816-5e36-4cb5-e6fa-112218cb7fd6"
      },
      "execution_count": 13,
      "outputs": [
        {
          "output_type": "stream",
          "name": "stdout",
          "text": [
            "There are 54214 sentences for training.\n",
            "\n",
            "There are 54214 labels for training.\n",
            "\n",
            "There are 54200 sentences for validation.\n",
            "\n",
            "There are 54200 labels for validation.\n"
          ]
        }
      ]
    },
    {
      "cell_type": "code",
      "source": [
        "def fit_tokenizer(train_sentences, num_words, oov_token):\n",
        "    tokenizer = Tokenizer(oov_token = oov_token, num_words = num_words)\n",
        "    tokenizer.fit_on_texts(train_sentences)\n",
        "\n",
        "    return tokenizer"
      ],
      "metadata": {
        "id": "Pdx39Isa460P"
      },
      "execution_count": 14,
      "outputs": []
    },
    {
      "cell_type": "code",
      "source": [
        "tokenizer = fit_tokenizer(sentences, NUM_WORDS, OOV_TOKEN)\n",
        "word_index = tokenizer.word_index\n",
        "\n",
        "print(f\"Vocabulary contains {len(word_index)} words\\n\")\n",
        "print(\"<OOV> token included in vocabulary\" if \"<OOV>\" in word_index else \"<OOV> token NOT included in vocabulary\")\n",
        "\n",
        ""
      ],
      "metadata": {
        "colab": {
          "base_uri": "https://localhost:8080/"
        },
        "id": "-9I5--ua462V",
        "outputId": "f04baac7-b98a-4145-f616-57dbbdc46ac4"
      },
      "execution_count": 15,
      "outputs": [
        {
          "output_type": "stream",
          "name": "stdout",
          "text": [
            "Vocabulary contains 138429 words\n",
            "\n",
            "<OOV> token included in vocabulary\n"
          ]
        }
      ]
    },
    {
      "cell_type": "code",
      "source": [
        "def seq_and_pad(sentences, tokenizer, padding, maxlen):\n",
        "    sequences = tokenizer.texts_to_sequences(sentences)\n",
        "    padded_sequences = pad_sequences(sequences, maxlen = maxlen, padding = padding)\n",
        "\n",
        "    return padded_sequences"
      ],
      "metadata": {
        "id": "Lo_1JNS6464h"
      },
      "execution_count": 16,
      "outputs": []
    },
    {
      "cell_type": "code",
      "source": [
        "train_padded_seq = seq_and_pad(sentences, tokenizer, PADDING, MAXLEN)\n",
        "val_padded_seq = seq_and_pad(test_sentences, tokenizer, PADDING, MAXLEN)\n",
        "\n",
        "print(f\"Padded training sequences have shape: {train_padded_seq.shape}\\n\")\n",
        "print(f\"Padded validation sequences have shape: {val_padded_seq.shape}\")\n"
      ],
      "metadata": {
        "colab": {
          "base_uri": "https://localhost:8080/"
        },
        "id": "WlVlAND6466i",
        "outputId": "97f4a0a2-0404-44b1-a8f9-ccb2b22c4abb"
      },
      "execution_count": 17,
      "outputs": [
        {
          "output_type": "stream",
          "name": "stdout",
          "text": [
            "Padded training sequences have shape: (54214, 250)\n",
            "\n",
            "Padded validation sequences have shape: (54200, 250)\n"
          ]
        }
      ]
    },
    {
      "cell_type": "code",
      "source": [
        "def remove_special_character(word, special_char='-'):\n",
        "    return word.replace(special_char, '')\n",
        "\n",
        "def replace_words_with_special_character(words_list, special_char='-'):\n",
        "    new_words_list = []\n",
        "    for word in words_list:\n",
        "        if special_char in word:\n",
        "            new_word = remove_special_character(word, special_char)\n",
        "            new_words_list.append(new_word)\n",
        "        else:\n",
        "            new_words_list.append(word)\n",
        "    return new_words_list\n",
        "\n",
        "def count_unique_elements(input_list):\n",
        "    unique_elements = set(input_list)\n",
        "    return len(unique_elements)"
      ],
      "metadata": {
        "id": "mJxqSxlN468m"
      },
      "execution_count": 18,
      "outputs": []
    },
    {
      "cell_type": "code",
      "source": [
        "labels = replace_words_with_special_character(labels)\n",
        "test_labels = replace_words_with_special_character(test_labels)"
      ],
      "metadata": {
        "id": "VavlX9te46-0"
      },
      "execution_count": 19,
      "outputs": []
    },
    {
      "cell_type": "code",
      "source": [
        "no = count_unique_elements(labels)\n",
        "no"
      ],
      "metadata": {
        "colab": {
          "base_uri": "https://localhost:8080/"
        },
        "id": "oCvlCUnr47BG",
        "outputId": "2118aea6-35b1-4cd9-c24a-480fe15b91be"
      },
      "execution_count": 20,
      "outputs": [
        {
          "output_type": "execute_result",
          "data": {
            "text/plain": [
              "27"
            ]
          },
          "metadata": {},
          "execution_count": 20
        }
      ]
    },
    {
      "cell_type": "code",
      "source": [
        "def flatten_list(input_list):\n",
        "    output_list = []\n",
        "    for item in input_list:\n",
        "        if isinstance(item, list):\n",
        "            output_list.extend(flatten_list(item))\n",
        "        else:\n",
        "            output_list.append(item)\n",
        "    return output_list"
      ],
      "metadata": {
        "id": "g9eIN7zI5eyh"
      },
      "execution_count": 21,
      "outputs": []
    },
    {
      "cell_type": "code",
      "source": [
        "def tokenize_labels(labels):\n",
        "    tokenizer = Tokenizer()\n",
        "    tokenizer.fit_on_texts(labels)\n",
        "    tokenized_labels = tokenizer.texts_to_sequences(labels)\n",
        "    tokenized_labels = np.array(tokenized_labels) - 1\n",
        "\n",
        "    return tokenized_labels"
      ],
      "metadata": {
        "id": "eWYzkoFS5e5G"
      },
      "execution_count": 22,
      "outputs": []
    },
    {
      "cell_type": "code",
      "source": [
        "train_label_seq = tokenize_labels(labels)\n",
        "val_label_seq = tokenize_labels(test_labels)\n",
        "\n",
        "print(f\"First 5 labels of the training set should look like this:\\n{train_label_seq[:5]}\\n\")\n",
        "print(f\"First 5 labels of the validation set should look like this:\\n{val_label_seq[:5]}\\n\")\n",
        "print(f\"Tokenized labels of the training set have shape: {train_label_seq.shape}\\n\")\n",
        "print(f\"Tokenized labels of the validation set have shape: {val_label_seq.shape}\\n\")\n"
      ],
      "metadata": {
        "colab": {
          "base_uri": "https://localhost:8080/"
        },
        "id": "M7wYN-YB5e-o",
        "outputId": "05745dd6-9d30-4228-9628-a60beea2e5c6"
      },
      "execution_count": 23,
      "outputs": [
        {
          "output_type": "stream",
          "name": "stdout",
          "text": [
            "First 5 labels of the training set should look like this:\n",
            "[[ 0]\n",
            " [ 5]\n",
            " [14]\n",
            " [ 0]\n",
            " [ 0]]\n",
            "\n",
            "First 5 labels of the validation set should look like this:\n",
            "[[5]\n",
            " [2]\n",
            " [1]\n",
            " [0]\n",
            " [0]]\n",
            "\n",
            "Tokenized labels of the training set have shape: (54214, 1)\n",
            "\n",
            "Tokenized labels of the validation set have shape: (54200, 1)\n",
            "\n"
          ]
        }
      ]
    },
    {
      "cell_type": "code",
      "source": [
        "def create_model(num_words, embedding_dim, maxlen):\n",
        "    tf.random.set_seed(123)\n",
        "\n",
        "    model = tf.keras.Sequential([\n",
        "        tf.keras.layers.Embedding(num_words, embedding_dim, input_length=maxlen),\n",
        "        tf.keras.layers.GlobalAveragePooling1D(),\n",
        "        tf.keras.layers.Dense(1024, activation='relu'),\n",
        "        tf.keras.layers.Dropout(0.3),\n",
        "        tf.keras.layers.Dense(512, activation='relu'),\n",
        "        tf.keras.layers.Dropout(0.25),\n",
        "        tf.keras.layers.Dense(96, activation='relu'),\n",
        "        tf.keras.layers.Dense(27, activation='softmax'),\n",
        "    ])\n",
        "\n",
        "    model.compile(loss=\"sparse_categorical_crossentropy\",\n",
        "                  optimizer=\"adam\",\n",
        "                  metrics=['accuracy'])\n",
        "\n",
        "    return model"
      ],
      "metadata": {
        "id": "7oe8-Zod5fFQ"
      },
      "execution_count": 25,
      "outputs": []
    },
    {
      "cell_type": "code",
      "source": [
        "model = create_model(NUM_WORDS, EMBEDDING_DIM, MAXLEN)\n",
        "\n",
        "history = model.fit(train_padded_seq, train_label_seq, epochs=30, validation_data=(val_padded_seq, val_label_seq))\n"
      ],
      "metadata": {
        "colab": {
          "base_uri": "https://localhost:8080/"
        },
        "id": "LpKOwqE05fJn",
        "outputId": "0c896ba3-c283-47bc-82a3-2f9eb788ec34"
      },
      "execution_count": 26,
      "outputs": [
        {
          "output_type": "stream",
          "name": "stdout",
          "text": [
            "Epoch 1/30\n",
            "1695/1695 [==============================] - 48s 27ms/step - loss: 2.1059 - accuracy: 0.3615 - val_loss: 1.8354 - val_accuracy: 0.4627\n",
            "Epoch 2/30\n",
            "1695/1695 [==============================] - 29s 17ms/step - loss: 1.7621 - accuracy: 0.4725 - val_loss: 1.7459 - val_accuracy: 0.4850\n",
            "Epoch 3/30\n",
            "1695/1695 [==============================] - 31s 18ms/step - loss: 1.6483 - accuracy: 0.5128 - val_loss: 1.6538 - val_accuracy: 0.5184\n",
            "Epoch 4/30\n",
            "1695/1695 [==============================] - 30s 18ms/step - loss: 1.5505 - accuracy: 0.5446 - val_loss: 1.6983 - val_accuracy: 0.5048\n",
            "Epoch 5/30\n",
            "1695/1695 [==============================] - 31s 18ms/step - loss: 1.4987 - accuracy: 0.5588 - val_loss: 1.6154 - val_accuracy: 0.5217\n",
            "Epoch 6/30\n",
            "1695/1695 [==============================] - 29s 17ms/step - loss: 1.4539 - accuracy: 0.5696 - val_loss: 1.6365 - val_accuracy: 0.5277\n",
            "Epoch 7/30\n",
            "1695/1695 [==============================] - 29s 17ms/step - loss: 1.4202 - accuracy: 0.5787 - val_loss: 1.6012 - val_accuracy: 0.5366\n",
            "Epoch 8/30\n",
            "1695/1695 [==============================] - 29s 17ms/step - loss: 1.3848 - accuracy: 0.5881 - val_loss: 1.6322 - val_accuracy: 0.5255\n",
            "Epoch 9/30\n",
            "1695/1695 [==============================] - 29s 17ms/step - loss: 1.3388 - accuracy: 0.6027 - val_loss: 1.5635 - val_accuracy: 0.5453\n",
            "Epoch 10/30\n",
            "1695/1695 [==============================] - 29s 17ms/step - loss: 1.2816 - accuracy: 0.6179 - val_loss: 1.5363 - val_accuracy: 0.5519\n",
            "Epoch 11/30\n",
            "1695/1695 [==============================] - 28s 17ms/step - loss: 1.2369 - accuracy: 0.6303 - val_loss: 1.5599 - val_accuracy: 0.5467\n",
            "Epoch 12/30\n",
            "1695/1695 [==============================] - 29s 17ms/step - loss: 1.2028 - accuracy: 0.6399 - val_loss: 1.5876 - val_accuracy: 0.5529\n",
            "Epoch 13/30\n",
            "1695/1695 [==============================] - 29s 17ms/step - loss: 1.1718 - accuracy: 0.6482 - val_loss: 1.5722 - val_accuracy: 0.5556\n",
            "Epoch 14/30\n",
            "1695/1695 [==============================] - 29s 17ms/step - loss: 1.1462 - accuracy: 0.6557 - val_loss: 1.5955 - val_accuracy: 0.5564\n",
            "Epoch 15/30\n",
            "1695/1695 [==============================] - 34s 20ms/step - loss: 1.1206 - accuracy: 0.6635 - val_loss: 1.5654 - val_accuracy: 0.5553\n",
            "Epoch 16/30\n",
            "1695/1695 [==============================] - 32s 19ms/step - loss: 1.0975 - accuracy: 0.6678 - val_loss: 1.6055 - val_accuracy: 0.5553\n",
            "Epoch 17/30\n",
            "1695/1695 [==============================] - 29s 17ms/step - loss: 1.0704 - accuracy: 0.6737 - val_loss: 1.6494 - val_accuracy: 0.5508\n",
            "Epoch 18/30\n",
            "1695/1695 [==============================] - 30s 17ms/step - loss: 1.0462 - accuracy: 0.6814 - val_loss: 1.7126 - val_accuracy: 0.5306\n",
            "Epoch 19/30\n",
            "1695/1695 [==============================] - 29s 17ms/step - loss: 1.0240 - accuracy: 0.6878 - val_loss: 1.6866 - val_accuracy: 0.5452\n",
            "Epoch 20/30\n",
            "1695/1695 [==============================] - 28s 16ms/step - loss: 1.0046 - accuracy: 0.6926 - val_loss: 1.6498 - val_accuracy: 0.5447\n",
            "Epoch 21/30\n",
            "1695/1695 [==============================] - 30s 17ms/step - loss: 0.9874 - accuracy: 0.6992 - val_loss: 1.7637 - val_accuracy: 0.5479\n",
            "Epoch 22/30\n",
            "1695/1695 [==============================] - 30s 18ms/step - loss: 0.9609 - accuracy: 0.7066 - val_loss: 1.7323 - val_accuracy: 0.5396\n",
            "Epoch 23/30\n",
            "1695/1695 [==============================] - 29s 17ms/step - loss: 0.9497 - accuracy: 0.7086 - val_loss: 1.7553 - val_accuracy: 0.5378\n",
            "Epoch 24/30\n",
            "1695/1695 [==============================] - 29s 17ms/step - loss: 0.9278 - accuracy: 0.7127 - val_loss: 1.8318 - val_accuracy: 0.5408\n",
            "Epoch 25/30\n",
            "1695/1695 [==============================] - 30s 18ms/step - loss: 0.9134 - accuracy: 0.7188 - val_loss: 1.7928 - val_accuracy: 0.5369\n",
            "Epoch 26/30\n",
            "1695/1695 [==============================] - 28s 17ms/step - loss: 0.8937 - accuracy: 0.7260 - val_loss: 1.8775 - val_accuracy: 0.5419\n",
            "Epoch 27/30\n",
            "1695/1695 [==============================] - 29s 17ms/step - loss: 0.8853 - accuracy: 0.7268 - val_loss: 1.8785 - val_accuracy: 0.5267\n",
            "Epoch 28/30\n",
            "1695/1695 [==============================] - 28s 17ms/step - loss: 0.8643 - accuracy: 0.7322 - val_loss: 1.8593 - val_accuracy: 0.5340\n",
            "Epoch 29/30\n",
            "1695/1695 [==============================] - 29s 17ms/step - loss: 0.8489 - accuracy: 0.7367 - val_loss: 1.9514 - val_accuracy: 0.5196\n",
            "Epoch 30/30\n",
            "1695/1695 [==============================] - 30s 18ms/step - loss: 0.8371 - accuracy: 0.7422 - val_loss: 1.9350 - val_accuracy: 0.5246\n"
          ]
        }
      ]
    },
    {
      "cell_type": "code",
      "source": [
        "def plot_graphs(history, metric):\n",
        "    plt.plot(history.history[metric])\n",
        "    plt.plot(history.history[f'val_{metric}'])\n",
        "    plt.xlabel(\"Epochs\")\n",
        "    plt.ylabel(metric)\n",
        "    plt.legend([metric, f'val_{metric}'])\n",
        "    plt.show()\n",
        "\n",
        "plot_graphs(history, \"accuracy\")\n",
        "plot_graphs(history, \"loss\")"
      ],
      "metadata": {
        "colab": {
          "base_uri": "https://localhost:8080/",
          "height": 899
        },
        "id": "cMowwToM5fN5",
        "outputId": "4acaba40-b5d8-435a-b67e-9fa154b7b9f6"
      },
      "execution_count": 27,
      "outputs": [
        {
          "output_type": "display_data",
          "data": {
            "text/plain": [
              "<Figure size 640x480 with 1 Axes>"
            ],
            "image/png": "[encoded data removed]"
          },
          "metadata": {}
        },
        {
          "output_type": "display_data",
          "data": {
            "text/plain": [
              "<Figure size 640x480 with 1 Axes>"
            ],
            "image/png": "[encoded data removed]"
          },
          "metadata": {}
        }
      ]
    }
  ]
}